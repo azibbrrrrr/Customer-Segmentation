{
  "nbformat": 4,
  "nbformat_minor": 0,
  "metadata": {
    "colab": {
      "provenance": []
    },
    "kernelspec": {
      "name": "python3",
      "display_name": "Python 3"
    },
    "language_info": {
      "name": "python"
    }
  },
  "cells": [
    {
      "cell_type": "code",
      "execution_count": 1,
      "metadata": {
        "colab": {
          "base_uri": "https://localhost:8080/"
        },
        "id": "K-XkBcEi8DSm",
        "outputId": "bb0e3d91-8c3d-4432-a4e2-8129591305cb"
      },
      "outputs": [
        {
          "output_type": "stream",
          "name": "stdout",
          "text": [
            "Collecting pyspark\n",
            "  Downloading pyspark-3.5.3.tar.gz (317.3 MB)\n",
            "\u001b[2K     \u001b[90m━━━━━━━━━━━━━━━━━━━━━━━━━━━━━━━━━━━━━━━━\u001b[0m \u001b[32m317.3/317.3 MB\u001b[0m \u001b[31m3.9 MB/s\u001b[0m eta \u001b[36m0:00:00\u001b[0m\n",
            "\u001b[?25h  Preparing metadata (setup.py) ... \u001b[?25l\u001b[?25hdone\n",
            "Requirement already satisfied: py4j==0.10.9.7 in /usr/local/lib/python3.10/dist-packages (from pyspark) (0.10.9.7)\n",
            "Building wheels for collected packages: pyspark\n",
            "  Building wheel for pyspark (setup.py) ... \u001b[?25l\u001b[?25hdone\n",
            "  Created wheel for pyspark: filename=pyspark-3.5.3-py2.py3-none-any.whl size=317840625 sha256=42986dfb09139bde1e7832c0b4ba50750f439b51ad1854ac532a7329d955387b\n",
            "  Stored in directory: /root/.cache/pip/wheels/1b/3a/92/28b93e2fbfdbb07509ca4d6f50c5e407f48dce4ddbda69a4ab\n",
            "Successfully built pyspark\n",
            "Installing collected packages: pyspark\n",
            "Successfully installed pyspark-3.5.3\n"
          ]
        }
      ],
      "source": [
        "!pip install pyspark"
      ]
    },
    {
      "cell_type": "code",
      "source": [
        "from pyspark.sql import SparkSession\n",
        "from pyspark.ml.feature import VectorAssembler, StandardScaler\n",
        "from pyspark.ml.clustering import KMeans"
      ],
      "metadata": {
        "id": "61DszRoj9fg9"
      },
      "execution_count": 2,
      "outputs": []
    },
    {
      "cell_type": "code",
      "source": [
        "# Create a Spark session\n",
        "spark = SparkSession.builder.appName(\"CustomerSegmentation\").getOrCreate()\n",
        "\n",
        "# Load the dataset\n",
        "df = spark.read.csv(\"Mall_Customers.csv\", header=True, inferSchema=True)"
      ],
      "metadata": {
        "id": "AxxWq6cS9g31"
      },
      "execution_count": 3,
      "outputs": []
    },
    {
      "cell_type": "code",
      "source": [
        "# View the data structure\n",
        "df.printSchema()"
      ],
      "metadata": {
        "colab": {
          "base_uri": "https://localhost:8080/"
        },
        "id": "LXzPjkwr9-PN",
        "outputId": "2e9924b8-ab61-47a2-c43b-0d1e384bd336"
      },
      "execution_count": 4,
      "outputs": [
        {
          "output_type": "stream",
          "name": "stdout",
          "text": [
            "root\n",
            " |-- CustomerID: integer (nullable = true)\n",
            " |-- Gender: string (nullable = true)\n",
            " |-- Age: integer (nullable = true)\n",
            " |-- Annual Income (k$): integer (nullable = true)\n",
            " |-- Spending Score (1-100): integer (nullable = true)\n",
            "\n"
          ]
        }
      ]
    },
    {
      "cell_type": "code",
      "source": [
        "# Selecting relevant features (Age, Annual Income, and Spending Score)\n",
        "features = ['Age', 'Annual Income (k$)', 'Spending Score (1-100)']\n",
        "\n",
        "# Create feature vector\n",
        "assembler = VectorAssembler(inputCols=features, outputCol='features')\n",
        "df_features = assembler.transform(df)"
      ],
      "metadata": {
        "id": "dNQtfrGa-AnY"
      },
      "execution_count": 6,
      "outputs": []
    },
    {
      "cell_type": "code",
      "source": [
        "# Normalize the features using StandardScaler\n",
        "scaler = StandardScaler(inputCol=\"features\", outputCol=\"scaled_features\")\n",
        "scaler_model = scaler.fit(df_features)\n",
        "df_scaled = scaler_model.transform(df_features)"
      ],
      "metadata": {
        "id": "jEfiGgVx-3ka"
      },
      "execution_count": 7,
      "outputs": []
    },
    {
      "cell_type": "markdown",
      "source": [
        "## Applying K-Means Clustering"
      ],
      "metadata": {
        "id": "MZqSGMop-n8k"
      }
    },
    {
      "cell_type": "code",
      "source": [
        "# Define the KMeans algorithm with k clusters (let's assume k=5)\n",
        "kmeans = KMeans(featuresCol=\"scaled_features\", k=5, seed=1)\n",
        "\n",
        "# Fit the model\n",
        "model = kmeans.fit(df_scaled)"
      ],
      "metadata": {
        "id": "yv3ed674-nVh"
      },
      "execution_count": 8,
      "outputs": []
    },
    {
      "cell_type": "code",
      "source": [
        "# Make predictions (adding a 'prediction' column indicating the cluster)\n",
        "predictions = model.transform(df_scaled)\n",
        "\n",
        "# Show the results\n",
        "predictions.select('CustomerID', 'scaled_features', 'prediction').show(10)"
      ],
      "metadata": {
        "colab": {
          "base_uri": "https://localhost:8080/"
        },
        "id": "1K4NHMv9AHvB",
        "outputId": "11239739-d9e6-4e68-dcb8-d2f333bc8b38"
      },
      "execution_count": 9,
      "outputs": [
        {
          "output_type": "stream",
          "name": "stdout",
          "text": [
            "+----------+--------------------+----------+\n",
            "|CustomerID|     scaled_features|prediction|\n",
            "+----------+--------------------+----------+\n",
            "|         1|[1.36015391423519...|         0|\n",
            "|         2|[1.50332801047048...|         0|\n",
            "|         3|[1.43174096235284...|         1|\n",
            "|         4|[1.64650210670576...|         0|\n",
            "|         5|[2.21919849164690...|         0|\n",
            "|         6|[1.57491505858812...|         0|\n",
            "|         7|[2.50554668411747...|         1|\n",
            "|         8|[1.64650210670576...|         0|\n",
            "|         9|[4.58157107952909...|         1|\n",
            "|        10|[2.14761144352926...|         0|\n",
            "+----------+--------------------+----------+\n",
            "only showing top 10 rows\n",
            "\n"
          ]
        }
      ]
    },
    {
      "cell_type": "code",
      "source": [
        "# Count the distinct clusters (predictions)\n",
        "total_clusters = predictions.select(\"prediction\").distinct().count()\n",
        "print(f\"Total number of clusters: {total_clusters}\")"
      ],
      "metadata": {
        "colab": {
          "base_uri": "https://localhost:8080/"
        },
        "id": "-bSFu-eAA6gi",
        "outputId": "1a06099c-b7ac-4e01-9cdc-47f43ffc5643"
      },
      "execution_count": 10,
      "outputs": [
        {
          "output_type": "stream",
          "name": "stdout",
          "text": [
            "Total number of clusters: 5\n"
          ]
        }
      ]
    },
    {
      "cell_type": "code",
      "source": [
        "# Evaluate clustering by computing the Within Set Sum of Squared Errors (WSSSE)\n",
        "wssse = model.summary.trainingCost\n",
        "print(f\"Within Set Sum of Squared Errors = {wssse}\")"
      ],
      "metadata": {
        "colab": {
          "base_uri": "https://localhost:8080/"
        },
        "id": "xiGATUHABAci",
        "outputId": "ff66a8e7-e78b-4027-c0be-370083219c98"
      },
      "execution_count": 12,
      "outputs": [
        {
          "output_type": "stream",
          "name": "stdout",
          "text": [
            "Within Set Sum of Squared Errors = 167.40634227469047\n"
          ]
        }
      ]
    },
    {
      "cell_type": "markdown",
      "source": [
        "## Re-run the K-Means model to compare WSSSE value and find the elbow point"
      ],
      "metadata": {
        "id": "n2EuLIRuCjwd"
      }
    },
    {
      "cell_type": "code",
      "source": [
        "wssse_values = []\n",
        "\n",
        "# Try different k values\n",
        "for k in range(2, 10):\n",
        "    kmeans = KMeans(featuresCol=\"scaled_features\", k=k, seed=1)\n",
        "    model = kmeans.fit(df_scaled)\n",
        "    wssse = model.summary.trainingCost\n",
        "    wssse_values.append(wssse)"
      ],
      "metadata": {
        "id": "8Yy63fjXCwmy"
      },
      "execution_count": 13,
      "outputs": []
    },
    {
      "cell_type": "code",
      "source": [
        "import matplotlib.pyplot as plt\n",
        "\n",
        "# Plot the elbow curve\n",
        "plt.plot(range(2, 10), wssse_values, marker='o')\n",
        "plt.xlabel(\"Number of Clusters (k)\")\n",
        "plt.ylabel(\"Within Set Sum of Squared Errors (WSSSE)\")\n",
        "plt.title(\"Elbow Method for Optimal k\")\n",
        "plt.show()"
      ],
      "metadata": {
        "colab": {
          "base_uri": "https://localhost:8080/",
          "height": 472
        },
        "id": "bd_MrniyDU2M",
        "outputId": "ab64cd1e-d6e1-4794-c077-d8a7f7c6fd96"
      },
      "execution_count": 14,
      "outputs": [
        {
          "output_type": "display_data",
          "data": {
            "text/plain": [
              "<Figure size 640x480 with 1 Axes>"
            ],
            "image/png": "[encoded data removed]"
          },
          "metadata": {}
        }
      ]
    },
    {
      "cell_type": "markdown",
      "source": [
        "The curve seems to bend around k=4 or k=5, which suggests that 4 or 5 clusters might be the optimal number for the data."
      ],
      "metadata": {
        "id": "8ck9S16bEIji"
      }
    },
    {
      "cell_type": "code",
      "source": [
        "kmeans = KMeans(featuresCol=\"scaled_features\", k=5, seed=1)\n",
        "model = kmeans.fit(df_scaled)\n",
        "\n",
        "# Make predictions\n",
        "predictions = model.transform(df_scaled)\n",
        "\n",
        "# Show the results\n",
        "predictions.select('CustomerID', 'scaled_features', 'prediction').show(10)"
      ],
      "metadata": {
        "colab": {
          "base_uri": "https://localhost:8080/"
        },
        "id": "mxDcxQfyEVtt",
        "outputId": "aa5c8f1a-ee82-4909-e8b3-04f27863458b"
      },
      "execution_count": 15,
      "outputs": [
        {
          "output_type": "stream",
          "name": "stdout",
          "text": [
            "+----------+--------------------+----------+\n",
            "|CustomerID|     scaled_features|prediction|\n",
            "+----------+--------------------+----------+\n",
            "|         1|[1.36015391423519...|         0|\n",
            "|         2|[1.50332801047048...|         0|\n",
            "|         3|[1.43174096235284...|         1|\n",
            "|         4|[1.64650210670576...|         0|\n",
            "|         5|[2.21919849164690...|         0|\n",
            "|         6|[1.57491505858812...|         0|\n",
            "|         7|[2.50554668411747...|         1|\n",
            "|         8|[1.64650210670576...|         0|\n",
            "|         9|[4.58157107952909...|         1|\n",
            "|        10|[2.14761144352926...|         0|\n",
            "+----------+--------------------+----------+\n",
            "only showing top 10 rows\n",
            "\n"
          ]
        }
      ]
    },
    {
      "cell_type": "code",
      "source": [
        "# Export the results for visualization\n",
        "export_data = predictions.select('CustomerID', 'Age', 'Annual Income (k$)', 'Spending Score (1-100)', 'prediction').join(df.select(\"CustomerID\", \"Gender\"), on=\"CustomerID\", how=\"inner\")\n",
        "export_data.toPandas().to_csv(\"customer_segmentsResult.csv\", index=False)"
      ],
      "metadata": {
        "id": "PXM71LawEzOw"
      },
      "execution_count": 19,
      "outputs": []
    }
  ]
}